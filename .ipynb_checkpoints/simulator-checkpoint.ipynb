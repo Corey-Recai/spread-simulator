{
 "cells": [
  {
   "cell_type": "markdown",
   "metadata": {},
   "source": [
    "Roughly reproducing the simulator on the Washington Post\n",
    "https://www.washingtonpost.com/graphics/2020/world/corona-simulator/"
   ]
  },
  {
   "cell_type": "code",
   "execution_count": 10,
   "metadata": {},
   "outputs": [],
   "source": [
    "%matplotlib inline"
   ]
  },
  {
   "cell_type": "code",
   "execution_count": 4,
   "metadata": {},
   "outputs": [],
   "source": [
    "import pandas as pd\n",
    "import numpy as np\n",
    "from matplotlib import pyplot as pl\n",
    "from numpy import random as rd\n"
   ]
  },
  {
   "cell_type": "code",
   "execution_count": 24,
   "metadata": {},
   "outputs": [
    {
     "name": "stdout",
     "output_type": "stream",
     "text": [
      "[0, 0, 0, 0, 0, 0, 0, 0, 0, 0, 0, 0, 0, 1, 0, 0, 0, 0, 0, 0, 0, 0, 0, 0, 0, 0, 0, 0, 0, 0, 0, 0, 0, 0, 0, 0, 0, 0, 0, 0, 0, 0, 0, 0, 0, 0, 0, 0, 0, 0, 0, 0, 0, 0, 0, 0, 0, 0, 0, 0, 0, 0, 0, 0, 0, 0, 0, 0, 0, 0, 0, 0, 0, 0, 0, 0, 0, 0, 0, 0, 0, 0, 0, 0, 0, 0, 0, 0, 0, 0, 0, 0, 0, 0, 0, 0, 0, 0, 0, 0]\n"
     ]
    }
   ],
   "source": [
    "n_agents = 100\n",
    "transmission_threshold_distance = 0.01\n",
    "\n",
    "speed = 0.01\n",
    "initial_infections = 1\n",
    "\n",
    "x_pos = [rd.uniform() for _ in range(n_agents)]\n",
    "y_pos = [rd.uniform() for _ in range(n_agents)]\n",
    "\n",
    "x_dir = [rd.uniform()*speed for _ in range(n_agents)]\n",
    "y_dir = [rd.uniform()*speed for _ in range(n_agents)]\n",
    "\n",
    "agent_order = rd.permutation(n_agents)\n",
    "\n",
    "agent_status = [0 for _ in range(n_agents)]\n",
    "# status \n",
    "# 0 - uninfected\n",
    "# 1 - infected\n",
    "# 2 - recovered\n",
    "# 3 - mortality\n",
    "\n",
    "initial_patients = 1\n",
    "# create patient(s) zero\n",
    "for agent_index in agent_order[0:initial_patients]:\n",
    "    agent_status[agent_index]  = 1\n",
    "\n",
    "    \n",
    "print(agent_status) # eye-balling that there is one (or initial_infections) agent with status=1 and the rest zero\n"
   ]
  },
  {
   "cell_type": "code",
   "execution_count": null,
   "metadata": {},
   "outputs": [],
   "source": [
    "status_colors = {0: 'blue', 1: 'brown', 2: 'pink', 3: 'black'}\n"
   ]
  },
  {
   "cell_type": "code",
   "execution_count": 20,
   "metadata": {},
   "outputs": [
    {
     "data": {
      "image/png": "[encoded data removed]",
      "text/plain": [
       "<Figure size 432x288 with 1 Axes>"
      ]
     },
     "metadata": {},
     "output_type": "display_data"
    }
   ],
   "source": [
    "pl.scatter(x_pos, y_pos, color='green', marker='x')\n",
    "pl.xticks([])\n",
    "_ = pl.yticks([])"
   ]
  },
  {
   "cell_type": "code",
   "execution_count": 26,
   "metadata": {},
   "outputs": [
    {
     "data": {
      "text/html": [
       "<div>\n",
       "<style scoped>\n",
       "    .dataframe tbody tr th:only-of-type {\n",
       "        vertical-align: middle;\n",
       "    }\n",
       "\n",
       "    .dataframe tbody tr th {\n",
       "        vertical-align: top;\n",
       "    }\n",
       "\n",
       "    .dataframe thead th {\n",
       "        text-align: right;\n",
       "    }\n",
       "</style>\n",
       "<table border=\"1\" class=\"dataframe\">\n",
       "  <thead>\n",
       "    <tr style=\"text-align: right;\">\n",
       "      <th></th>\n",
       "      <th>x pos</th>\n",
       "      <th>y pos</th>\n",
       "      <th>status</th>\n",
       "      <th>x dir</th>\n",
       "      <th>y dir</th>\n",
       "    </tr>\n",
       "  </thead>\n",
       "  <tbody>\n",
       "    <tr>\n",
       "      <th>0</th>\n",
       "      <td>0.194568</td>\n",
       "      <td>0.013037</td>\n",
       "      <td>0</td>\n",
       "      <td>0.009764</td>\n",
       "      <td>0.005906</td>\n",
       "    </tr>\n",
       "    <tr>\n",
       "      <th>1</th>\n",
       "      <td>0.137611</td>\n",
       "      <td>0.169467</td>\n",
       "      <td>0</td>\n",
       "      <td>0.000730</td>\n",
       "      <td>0.003090</td>\n",
       "    </tr>\n",
       "    <tr>\n",
       "      <th>2</th>\n",
       "      <td>0.149127</td>\n",
       "      <td>0.304815</td>\n",
       "      <td>0</td>\n",
       "      <td>0.000286</td>\n",
       "      <td>0.001553</td>\n",
       "    </tr>\n",
       "    <tr>\n",
       "      <th>3</th>\n",
       "      <td>0.708047</td>\n",
       "      <td>0.552384</td>\n",
       "      <td>0</td>\n",
       "      <td>0.005523</td>\n",
       "      <td>0.001018</td>\n",
       "    </tr>\n",
       "    <tr>\n",
       "      <th>4</th>\n",
       "      <td>0.812523</td>\n",
       "      <td>0.238948</td>\n",
       "      <td>0</td>\n",
       "      <td>0.009318</td>\n",
       "      <td>0.003996</td>\n",
       "    </tr>\n",
       "  </tbody>\n",
       "</table>\n",
       "</div>"
      ],
      "text/plain": [
       "      x pos     y pos  status     x dir     y dir\n",
       "0  0.194568  0.013037       0  0.009764  0.005906\n",
       "1  0.137611  0.169467       0  0.000730  0.003090\n",
       "2  0.149127  0.304815       0  0.000286  0.001553\n",
       "3  0.708047  0.552384       0  0.005523  0.001018\n",
       "4  0.812523  0.238948       0  0.009318  0.003996"
      ]
     },
     "execution_count": 26,
     "metadata": {},
     "output_type": "execute_result"
    }
   ],
   "source": [
    "\"\"\"\n",
    "Two repeating events\n",
    "\n",
    "1. Update infection statuses\n",
    "    1a. Transmission \n",
    "        1a1. Check whether agents are within transmission distance\n",
    "        1a2. Determine with infection transmits (v1 assume probability = 1, future model adjust probabilities). \n",
    "            Transmission rates/probabilities are relatedc to people's hygiene practices.\n",
    "            E.g. use of gloves, washing of hands reduces transmission rates.\n",
    "            \n",
    "        1a3. Update status\n",
    "        \n",
    "    1b. Recovery (vs death)\n",
    "        \n",
    "        Update status\n",
    "    \n",
    "    1c. Death\n",
    "        Probability based on factors: \n",
    "            age, \n",
    "            probability of being a smoker, \n",
    "            hospital load: hospital_capacity vs (current infected * probability of being hospitalized)\n",
    "                probability of being covered = (USA: x %, rest of OECD: 1)\n",
    "            +random factor\n",
    "        \n",
    "        \n",
    "2. Movement    \n",
    "        Update location of each agent\n",
    "    Factors:\n",
    "        social isolation: some % of agents do not move         \n",
    "\n",
    "\n",
    "\"\"\"\n",
    "# def update\n",
    "agents = pd.DataFrame({'x pos': x_pos, 'y pos': y_pos, 'status': agent_status, 'x dir': x_dir, 'y dir': y_dir})\n",
    "agents.head()\n"
   ]
  },
  {
   "cell_type": "code",
   "execution_count": 25,
   "metadata": {},
   "outputs": [],
   "source": [
    "def agents_are_close(agent1_x_pos, agent1_y_pos, agent2_x_pos, agent2_y_pos):\n",
    "    \n",
    "    distance = np.sqrt( (agent1_x_pos-agent2_x_pos) ** 2 + (agent1_y_pos-agent2_y_pos) ** 2 )\n",
    "    \n",
    "    return distance <= transmission_threshold_distance"
   ]
  },
  {
   "cell_type": "code",
   "execution_count": null,
   "metadata": {},
   "outputs": [],
   "source": [
    "\n",
    "\n"
   ]
  }
 ],
 "metadata": {
  "kernelspec": {
   "display_name": "Python 3",
   "language": "python",
   "name": "python3"
  },
  "language_info": {
   "codemirror_mode": {
    "name": "ipython",
    "version": 3
   },
   "file_extension": ".py",
   "mimetype": "text/x-python",
   "name": "python",
   "nbconvert_exporter": "python",
   "pygments_lexer": "ipython3",
   "version": "3.7.3"
  }
 },
 "nbformat": 4,
 "nbformat_minor": 4
}
