{
 "cells": [
  {
   "cell_type": "markdown",
   "metadata": {},
   "source": [
    "Roughly reproducing the simulator on the Washington Post\n",
    "https://www.washingtonpost.com/graphics/2020/world/corona-simulator/"
   ]
  },
  {
   "cell_type": "code",
   "execution_count": 10,
   "metadata": {},
   "outputs": [],
   "source": [
    "%matplotlib inline"
   ]
  },
  {
   "cell_type": "code",
   "execution_count": 4,
   "metadata": {},
   "outputs": [],
   "source": [
    "import pandas as pd\n",
    "import numpy as np\n",
    "from matplotlib import pyplot as pl\n",
    "from numpy import random as rd\n"
   ]
  },
  {
   "cell_type": "code",
   "execution_count": 65,
   "metadata": {},
   "outputs": [
    {
     "name": "stdout",
     "output_type": "stream",
     "text": [
      "[0, 0, 0, 0, 0, 0, 0, 0, 0, 0, 0, 0, 0, 0, 0, 0, 0, 0, 0, 0, 0, 0, 0, 0, 0, 0, 0, 0, 0, 0, 0, 0, 0, 0, 0, 0, 0, 0, 0, 0, 0, 0, 0, 0, 1, 0, 0, 0, 0, 0, 0, 0, 0, 0, 0, 0, 0, 0, 0, 0, 0, 0, 0, 0, 0, 0, 0, 0, 0, 0, 0, 0, 0, 0, 0, 0, 0, 0, 0, 0, 0, 0, 0, 0, 0, 0, 0, 0, 0, 0, 0, 0, 0, 0, 0, 0, 0, 0, 0, 0]\n"
     ]
    }
   ],
   "source": [
    "n_agents = 100\n",
    "transmission_threshold_distance = 0.01\n",
    "transmission_factor = 1\n",
    "\n",
    "speed = 0.01\n",
    "initial_infections = 1\n",
    "\n",
    "\n",
    "def initialize_agents(n_agents, initial_infections):\n",
    "    x_pos = [rd.uniform() for _ in range(n_agents)]\n",
    "    y_pos = [rd.uniform() for _ in range(n_agents)]\n",
    "\n",
    "    x_dir = [rd.normal()*speed for _ in range(n_agents)]\n",
    "    y_dir = [rd.normal()*speed for _ in range(n_agents)]\n",
    "\n",
    "    agent_order = rd.permutation(n_agents)\n",
    "\n",
    "    agent_status = [0 for _ in range(n_agents)]\n",
    "    # status \n",
    "    # 0 - uninfected\n",
    "    # 1 - infected\n",
    "    # 2 - recovered\n",
    "    # 3 - mortality\n",
    "\n",
    "    initial_patients = 1\n",
    "    # create patient(s) zero\n",
    "    for agent_index in agent_order[0:initial_patients]:\n",
    "        agent_status[agent_index]  = 1\n",
    "        \n",
    "    agents = pd.DataFrame({'x pos': x_pos, 'y pos': y_pos, 'status': agent_status, 'x dir': x_dir, 'y dir': y_dir})\n",
    "\n",
    "    return agents\n",
    "\n",
    "# def update\n",
    "agents = initialize_agents(n_agents, initial_infections)\n",
    "\n",
    "print(agents['status'].to_list())# eye-balling that there is one (or initial_infections) agent with status=1 and the rest zero\n"
   ]
  },
  {
   "cell_type": "code",
   "execution_count": 66,
   "metadata": {},
   "outputs": [],
   "source": [
    "status_colors = {0: 'blue', 1: 'brown', 2: 'pink', 3: 'black'}\n",
    "def status_color(status):\n",
    "    return status_colors[status]"
   ]
  },
  {
   "cell_type": "code",
   "execution_count": 69,
   "metadata": {},
   "outputs": [],
   "source": [
    "agents['color'] = agents['status'].apply(status_color)"
   ]
  },
  {
   "cell_type": "code",
   "execution_count": 77,
   "metadata": {},
   "outputs": [
    {
     "data": {
      "image/png": "[encoded data removed]",
      "text/plain": [
       "<Figure size 432x288 with 1 Axes>"
      ]
     },
     "metadata": {},
     "output_type": "display_data"
    }
   ],
   "source": [
    "def plot_agents(agents):\n",
    "    agents.plot.scatter(x='x pos', y='y pos', color=agents['color'], marker='x')\n",
    "    pl.xticks([])\n",
    "    \n",
    "    _ = pl.yticks([])\n",
    "    \n",
    "plot_agents(agents)"
   ]
  },
  {
   "cell_type": "code",
   "execution_count": 73,
   "metadata": {},
   "outputs": [],
   "source": [
    "\"\"\"\n",
    "Two repeating events\n",
    "\n",
    "1. Update infection statuses\n",
    "    1a. Transmission \n",
    "        1a1. Check whether agents are within transmission distance\n",
    "        1a2. Determine with infection transmits (v1 assume probability = 1, future model adjust probabilities). \n",
    "            Transmission rates/probabilities are relatedc to people's hygiene practices.\n",
    "            E.g. use of gloves, washing of hands reduces transmission rates.\n",
    "            \n",
    "        1a3. Update status\n",
    "        \n",
    "    1b. Recovery (vs death)\n",
    "        \n",
    "        Update status\n",
    "    \n",
    "    1c. Death\n",
    "        Probability based on factors: \n",
    "            age, \n",
    "            probability of being a smoker, \n",
    "            hospital load: hospital_capacity vs (current infected * probability of being hospitalized)\n",
    "                probability of being covered = (USA: x %, rest of OECD: 1)\n",
    "            +random factor\n",
    "        \n",
    "        \n",
    "2. Movement    \n",
    "        Update location of each agent\n",
    "    Factors:\n",
    "        social isolation: some % of agents do not move         \n",
    "\n",
    "\n",
    "\"\"\"\n",
    "None"
   ]
  },
  {
   "cell_type": "code",
   "execution_count": 90,
   "metadata": {},
   "outputs": [],
   "source": [
    "def agents_are_close(threshold, agent1_x_pos, agent1_y_pos, agent2_x_pos, agent2_y_pos):\n",
    "    \n",
    "    distance = np.sqrt( (agent1_x_pos-agent2_x_pos) ** 2 + (agent1_y_pos-agent2_y_pos) ** 2 )\n",
    "    \n",
    "    return distance <= threshold\n",
    "\n",
    "\n",
    "# test:\n",
    "if not agents_are_close( 0.1, 0.8, 0.3, 0.81, 0.28 ):\n",
    "    raise(ValueError(\"Distance function not working\")) # Not really a value error. This should be implemented as a unit test."
   ]
  },
  {
   "cell_type": "code",
   "execution_count": 104,
   "metadata": {},
   "outputs": [],
   "source": [
    "def transmit_disease(agents_curr):\n",
    "    agents = agents_curr.copy()\n",
    "    \n",
    "    agents.loc[:,'update as infected'] = False\n",
    "\n",
    "    # update infected status\n",
    "    for agent1_index in range(n_agents):\n",
    "        # \n",
    "        agent1 = agents.iloc[agent1_index]\n",
    "\n",
    "        for agent2_index in range(n_agents)[:agent1_index]:\n",
    "            agent2 = agents.iloc[agent2_index]\n",
    "            \n",
    "            # future version, do a self merge\n",
    "            if agents_are_close( transmission_threshold_distance, agent1['x pos'], agent1['y pos'], agent2['x pos'], agent2['y pos']) \\\n",
    "                and rd.uniform() < transmission_factor \\\n",
    "                and agent1['status'] == 0 \\\n",
    "                and agent2['status'] == 1: # future, agent2 infected days between min and max \n",
    "                    agents.loc[agent1_index,'update as infected'] = True\n",
    "                    agents.loc[agent2_index,'update as infected'] = True\n",
    "\n",
    "                    # future, update infection days count\n",
    "\n",
    "    # Assign infected status\n",
    "    agents.loc[agents['update as infected'],'status'] = 1\n",
    "    \n",
    "    return agents"
   ]
  },
  {
   "cell_type": "code",
   "execution_count": 131,
   "metadata": {},
   "outputs": [
    {
     "name": "stdout",
     "output_type": "stream",
     "text": [
      "       x pos     y pos  status     x dir     y dir  color\n",
      "44  0.909564  0.442054       1 -0.009855  0.007571  brown\n"
     ]
    }
   ],
   "source": [
    "#agents.head()\n",
    "agents\n",
    "\n",
    "print(agents.loc[agents['status']==1,:])"
   ]
  },
  {
   "cell_type": "code",
   "execution_count": 98,
   "metadata": {},
   "outputs": [],
   "source": [
    "# agents"
   ]
  },
  {
   "cell_type": "code",
   "execution_count": 106,
   "metadata": {},
   "outputs": [],
   "source": [
    "#transmit_disease(agents)"
   ]
  },
  {
   "cell_type": "code",
   "execution_count": 108,
   "metadata": {},
   "outputs": [],
   "source": [
    "# agent_state = []\n",
    "# agent_state.append(agents)\n",
    "# agent_state.append(transmit_disease(agents))\n",
    "\n",
    "# print(agent_state[1].loc[agent_state[1]['status']==1,:])"
   ]
  },
  {
   "cell_type": "code",
   "execution_count": 133,
   "metadata": {},
   "outputs": [],
   "source": [
    "adjust_outofrange = lambda pos, bounds: pos if (pos <= bounds[1] and pos >= bounds[0]) else (pos-1 if pos>bounds[1] else pos+1)\n",
    "\n",
    "# def new_location(x_new, y_new, bounds):\n",
    "#     # future, x1, y1, x2, y2, x_velocity, y_velocity\n",
    "    \n",
    "#     return (adjust_outofrange(x_new, [0,1]), adjust_outofrange(y_new, [0,1])) # too much engineering? Setting up for future new_location which could bound agents of bounds and other agents.\n",
    " \n",
    "def move_agents(agents_orig):\n",
    "    \n",
    "    agents = agents_orig.copy()\n",
    "    \n",
    "    agents['x pos'] = agents['x pos'] + agents['x dir']\n",
    "    agents['y pos'] = agents['y pos'] + agents['y dir']\n",
    "    \n",
    "    # update if outside of range - rather than \"bouncing\" off other agents, we assume that the continue to move within the space starting from the other extremee.\n",
    "    agents['x pos'] = agents['x pos'].apply(lambda x: adjust_outofrange(x, [0,1]) )\n",
    "    agents['y pos'] = agents['y pos'].apply(lambda x: adjust_outofrange(x, [0,1]) )\n",
    "        \n",
    "    return agents"
   ]
  },
  {
   "cell_type": "code",
   "execution_count": null,
   "metadata": {},
   "outputs": [],
   "source": []
  },
  {
   "cell_type": "code",
   "execution_count": null,
   "metadata": {},
   "outputs": [],
   "source": [
    "# run simulation (100 iterations)\n",
    "n_periods = 1000\n",
    "\n",
    "agent_state = []\n",
    "agent_state.append(agents)\n",
    "for period_i in range(n_periods):    \n",
    "    # transmit\n",
    "    agent_state.append(transmit_disease(agent_state[-1]))\n",
    "                       \n",
    "    # move - reuse\n",
    "    agent_state[-1] = move_agents(agent_state[-1])             \n",
    "                       \n"
   ]
  },
  {
   "cell_type": "code",
   "execution_count": null,
   "metadata": {},
   "outputs": [],
   "source": [
    "print(agent_state[-1].loc[agent_state[-1]['status']==1,:])"
   ]
  },
  {
   "cell_type": "code",
   "execution_count": null,
   "metadata": {},
   "outputs": [],
   "source": [
    "import time\n",
    "\n",
    "# UPDATE GRAPHIC        \n",
    "for period in range(len(agent_state):\n",
    "    plot_agents(agent_state[period])\n",
    "    pl.draw()\n",
    "    time.sleep(1)\n"
   ]
  },
  {
   "cell_type": "code",
   "execution_count": null,
   "metadata": {},
   "outputs": [],
   "source": [
    "plot_agents(agent_state)"
   ]
  }
 ],
 "metadata": {
  "kernelspec": {
   "display_name": "Python 3",
   "language": "python",
   "name": "python3"
  },
  "language_info": {
   "codemirror_mode": {
    "name": "ipython",
    "version": 3
   },
   "file_extension": ".py",
   "mimetype": "text/x-python",
   "name": "python",
   "nbconvert_exporter": "python",
   "pygments_lexer": "ipython3",
   "version": "3.7.3"
  }
 },
 "nbformat": 4,
 "nbformat_minor": 4
}
